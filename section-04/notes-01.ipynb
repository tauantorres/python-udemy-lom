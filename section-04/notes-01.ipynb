{
 "cells": [
  {
   "cell_type": "markdown",
   "metadata": {},
   "source": [
    "## `Closure`"
   ]
  },
  {
   "cell_type": "code",
   "execution_count": 92,
   "metadata": {},
   "outputs": [
    {
     "name": "stdout",
     "output_type": "stream",
     "text": [
      "Bom dia, Ana!\n",
      "Boa noite, Ana!\n",
      "Bom dia, Pedro!\n",
      "Boa noite, Pedro!\n",
      "Bom dia, Maria!\n",
      "Boa noite, Maria!\n"
     ]
    }
   ],
   "source": [
    "def criar_saudacao(saudacao):\n",
    "    def saudar(nome):\n",
    "        return f'{saudacao}, {nome}!'\n",
    "    return saudar\n",
    "\n",
    "falar_bom_dia = criar_saudacao('Bom dia')\n",
    "falar_boa_noite = criar_saudacao('Boa noite')\n",
    "\n",
    "for nome in ['Ana', 'Pedro', 'Maria']:\n",
    "    print(falar_bom_dia(nome))\n",
    "    print(falar_boa_noite(nome))\n"
   ]
  },
  {
   "cell_type": "code",
   "execution_count": 93,
   "metadata": {},
   "outputs": [
    {
     "name": "stdout",
     "output_type": "stream",
     "text": [
      "30\n"
     ]
    }
   ],
   "source": [
    "# EXERCICIO\n",
    "\n",
    "def criar_multiplicador(multiplicador):\n",
    "    def multiplicar(numero):\n",
    "        return numero * multiplicador\n",
    "    return multiplicar\n",
    "\n",
    "\n",
    "duplicar = criar_multiplicador(2)\n",
    "resultado = duplicar(15)\n",
    "\n",
    "print(resultado)"
   ]
  },
  {
   "cell_type": "markdown",
   "metadata": {},
   "source": [
    "# `Dict`:"
   ]
  },
  {
   "cell_type": "code",
   "execution_count": 94,
   "metadata": {},
   "outputs": [
    {
     "name": "stdout",
     "output_type": "stream",
     "text": [
      "{'nome': 'Tauan', 'sobrenome': 'Torres'}\n"
     ]
    }
   ],
   "source": [
    "pessoa = dict(nome=\"Tauan\", sobrenome=\"Torres\")\n",
    "\n",
    "print(pessoa)"
   ]
  },
  {
   "cell_type": "code",
   "execution_count": 95,
   "metadata": {},
   "outputs": [
    {
     "name": "stdout",
     "output_type": "stream",
     "text": [
      "{'nome': 'Tauan', 'sobrenome': 'Torres', 'idade': 30}\n"
     ]
    }
   ],
   "source": [
    "pessoa = {\n",
    "    'nome': 'Tauan',\n",
    "    'sobrenome': 'Torres',\n",
    "    'idade': 30\n",
    "}\n",
    "\n",
    "print(pessoa)"
   ]
  },
  {
   "cell_type": "code",
   "execution_count": 96,
   "metadata": {},
   "outputs": [
    {
     "name": "stdout",
     "output_type": "stream",
     "text": [
      "{'nome': 'Tauan', 'idade': 30}\n"
     ]
    }
   ],
   "source": [
    "del pessoa['sobrenome']\n",
    "\n",
    "print(pessoa)"
   ]
  },
  {
   "cell_type": "code",
   "execution_count": 97,
   "metadata": {},
   "outputs": [
    {
     "name": "stdout",
     "output_type": "stream",
     "text": [
      "30\n"
     ]
    }
   ],
   "source": [
    "# CASE 1\n",
    "pessoa = {\n",
    "    'nome': 'Tauan',\n",
    "    'sobrenome': 'Torres',\n",
    "    'idade': 30\n",
    "}\n",
    "\n",
    "pessoa.setdefault(\"idade\", 28)\n",
    "\n",
    "if pessoa.get('idade'):\n",
    "    print(pessoa['idade'])"
   ]
  },
  {
   "cell_type": "markdown",
   "metadata": {},
   "source": [
    "## `copy`:"
   ]
  },
  {
   "cell_type": "code",
   "execution_count": 98,
   "metadata": {},
   "outputs": [
    {
     "name": "stdout",
     "output_type": "stream",
     "text": [
      "28\n"
     ]
    }
   ],
   "source": [
    "# CASE 2\n",
    "pessoa = {\n",
    "    'nome': 'Tauan',\n",
    "    'sobrenome': 'Torres',\n",
    "}\n",
    "\n",
    "pessoa.setdefault(\"idade\", 28)\n",
    "\n",
    "if pessoa.get('idade'):\n",
    "    print(pessoa['idade'])"
   ]
  },
  {
   "cell_type": "code",
   "execution_count": 99,
   "metadata": {},
   "outputs": [
    {
     "name": "stdout",
     "output_type": "stream",
     "text": [
      "Idade não informada.\n"
     ]
    }
   ],
   "source": [
    "# CASE 3\n",
    "pessoa = {\n",
    "    'nome': 'Tauan',\n",
    "    'sobrenome': 'Torres',\n",
    "}\n",
    "\n",
    "if pessoa.get('idade'):\n",
    "    print(pessoa['idade'])\n",
    "else:\n",
    "    print(\"Idade não informada.\")"
   ]
  },
  {
   "cell_type": "code",
   "execution_count": 100,
   "metadata": {},
   "outputs": [
    {
     "name": "stdout",
     "output_type": "stream",
     "text": [
      "{'c1': 1000, 'c2': 2, 'l1': [0, 1, 2]}\n",
      "{'c1': 1000, 'c2': 2, 'l1': [0, 1, 2]}\n"
     ]
    }
   ],
   "source": [
    "# CASE 1\n",
    "d1 = {\n",
    "    'c1': 1,\n",
    "    'c2': 2,\n",
    "    'l1': [0, 1, 2],\n",
    "}\n",
    "\n",
    "d2 = d1\n",
    "\n",
    "d2['c1'] = 1000\n",
    "\n",
    "print(d1)\n",
    "print(d2)\n"
   ]
  },
  {
   "cell_type": "code",
   "execution_count": 101,
   "metadata": {},
   "outputs": [
    {
     "name": "stdout",
     "output_type": "stream",
     "text": [
      "{'c1': 1, 'c2': 2, 'l1': [0, 1, 2]}\n",
      "{'c1': 1000, 'c2': 2, 'l1': [0, 1, 2]}\n"
     ]
    }
   ],
   "source": [
    "# CASE 2\n",
    "d1 = {\n",
    "    'c1': 1,\n",
    "    'c2': 2,\n",
    "    'l1': [0, 1, 2],\n",
    "}\n",
    "\n",
    "d2 = d1.copy()\n",
    "\n",
    "d2['c1'] = 1000\n",
    "\n",
    "print(d1)\n",
    "print(d2)\n"
   ]
  },
  {
   "cell_type": "code",
   "execution_count": 102,
   "metadata": {},
   "outputs": [
    {
     "name": "stdout",
     "output_type": "stream",
     "text": [
      "{'c1': 1, 'c2': 2, 'l1': [0, 99999, 2]}\n",
      "{'c1': 1000, 'c2': 2, 'l1': [0, 99999, 2]}\n"
     ]
    }
   ],
   "source": [
    "# CASE 2\n",
    "d1 = {\n",
    "    'c1': 1,\n",
    "    'c2': 2,\n",
    "    'l1': [0, 1, 2],\n",
    "}\n",
    "\n",
    "d2 = d1.copy() # shallow-copy\n",
    "\n",
    "d2['c1'] = 1000\n",
    "d2['l1'][1] = 99999\n",
    "\n",
    "print(d1)\n",
    "print(d2)\n"
   ]
  },
  {
   "cell_type": "code",
   "execution_count": 103,
   "metadata": {},
   "outputs": [
    {
     "name": "stdout",
     "output_type": "stream",
     "text": [
      "{'c1': 1, 'c2': 2, 'l1': [0, 1, 2]}\n",
      "{'c1': 1000, 'c2': 2, 'l1': [0, 99999, 2]}\n"
     ]
    }
   ],
   "source": [
    "# CASE 3\n",
    "import copy\n",
    "\n",
    "d1 = {\n",
    "    'c1': 1,\n",
    "    'c2': 2,\n",
    "    'l1': [0, 1, 2],\n",
    "}\n",
    "\n",
    "d2 = copy.deepcopy(d1) # deep-copy\n",
    "\n",
    "d2['c1'] = 1000\n",
    "d2['l1'][1] = 99999\n",
    "\n",
    "print(d1)\n",
    "print(d2)\n"
   ]
  },
  {
   "cell_type": "markdown",
   "metadata": {},
   "source": [
    "## `pop()`:"
   ]
  },
  {
   "cell_type": "code",
   "execution_count": 104,
   "metadata": {},
   "outputs": [
    {
     "name": "stdout",
     "output_type": "stream",
     "text": [
      "Tauan\n",
      "{'sobrenome': 'Torres', 'idade': 30}\n"
     ]
    }
   ],
   "source": [
    "# CASE 1\n",
    "pessoa = {\n",
    "    'nome': 'Tauan',\n",
    "    'sobrenome': 'Torres',\n",
    "    'idade': 30\n",
    "}\n",
    "\n",
    "nome = pessoa.pop('nome')\n",
    "\n",
    "print(nome)\n",
    "print(pessoa)"
   ]
  },
  {
   "cell_type": "markdown",
   "metadata": {},
   "source": [
    "## `popitem()`:"
   ]
  },
  {
   "cell_type": "code",
   "execution_count": 105,
   "metadata": {},
   "outputs": [
    {
     "name": "stdout",
     "output_type": "stream",
     "text": [
      "('sobrenome', 'Torres')\n",
      "{'nome': 'Tauan'}\n"
     ]
    }
   ],
   "source": [
    "# CASE 1\n",
    "pessoa = {\n",
    "    'nome': 'Tauan',\n",
    "    'sobrenome': 'Torres',\n",
    "}\n",
    "\n",
    "ultimo_item = pessoa.popitem()\n",
    "\n",
    "print(ultimo_item)\n",
    "print(pessoa)"
   ]
  },
  {
   "cell_type": "markdown",
   "metadata": {},
   "source": [
    "## `update()`:\n"
   ]
  },
  {
   "cell_type": "code",
   "execution_count": 106,
   "metadata": {},
   "outputs": [
    {
     "name": "stdout",
     "output_type": "stream",
     "text": [
      "{'nome': 'Desmond', 'sobrenome': 'Torres'}\n"
     ]
    }
   ],
   "source": [
    "# CASE 1\n",
    "pessoa = {\n",
    "    'nome': 'Tauan',\n",
    "    'sobrenome': 'Torres',\n",
    "}\n",
    "\n",
    "pessoa.update({\n",
    "    'nome': 'Desmond',\n",
    "})\n",
    "\n",
    "print(pessoa)"
   ]
  },
  {
   "cell_type": "code",
   "execution_count": 107,
   "metadata": {},
   "outputs": [
    {
     "name": "stdout",
     "output_type": "stream",
     "text": [
      "{'nome': 'Desmond', 'sobrenome': 'Torres', 'idade': 12}\n"
     ]
    }
   ],
   "source": [
    "# CASE 2\n",
    "pessoa = {\n",
    "    'nome': 'Tauan',\n",
    "    'sobrenome': 'Torres',\n",
    "}\n",
    "\n",
    "pessoa.update({\n",
    "    'nome': 'Desmond',\n",
    "    'idade': 12,\n",
    "})\n",
    "\n",
    "print(pessoa)"
   ]
  },
  {
   "cell_type": "code",
   "execution_count": 108,
   "metadata": {},
   "outputs": [
    {
     "name": "stdout",
     "output_type": "stream",
     "text": [
      "{'nome': 'Desmond', 'sobrenome': 'Torres'}\n"
     ]
    }
   ],
   "source": [
    "# CASE 3\n",
    "pessoa = {\n",
    "    'nome': 'Tauan',\n",
    "    'sobrenome': 'Torres',\n",
    "}\n",
    "\n",
    "pessoa.update(nome='Desmond')\n",
    "\n",
    "print(pessoa)"
   ]
  },
  {
   "cell_type": "code",
   "execution_count": 109,
   "metadata": {},
   "outputs": [
    {
     "name": "stdout",
     "output_type": "stream",
     "text": [
      "{'nome': 'Desmond', 'sobrenome': 'Torres', 'idade': 12}\n"
     ]
    }
   ],
   "source": [
    "# CASE 3\n",
    "pessoa = {\n",
    "    'nome': 'Tauan',\n",
    "    'sobrenome': 'Torres',\n",
    "}\n",
    "\n",
    "pessoa.update(nome='Desmond', idade=12)\n",
    "\n",
    "print(pessoa)"
   ]
  },
  {
   "cell_type": "markdown",
   "metadata": {},
   "source": [
    "# `Set`:\n"
   ]
  },
  {
   "cell_type": "code",
   "execution_count": 110,
   "metadata": {},
   "outputs": [
    {
     "name": "stdout",
     "output_type": "stream",
     "text": [
      "{1, 2, 3} <class 'set'>\n"
     ]
    }
   ],
   "source": [
    "conjunto = {3, 1, 2}\n",
    "\n",
    "print(conjunto, type(conjunto))"
   ]
  },
  {
   "cell_type": "code",
   "execution_count": 111,
   "metadata": {},
   "outputs": [
    {
     "name": "stdout",
     "output_type": "stream",
     "text": [
      "1\n",
      "2\n",
      "3\n",
      "Kristina\n",
      "Tauan\n"
     ]
    }
   ],
   "source": [
    "conjunto = {2, \"Kristina\", 1, 3, \"Tauan\"}\n",
    "\n",
    "for c in conjunto:\n",
    "    print(c)\n"
   ]
  },
  {
   "cell_type": "raw",
   "metadata": {},
   "source": [
    "\"|\" - Union \n",
    "\"&\" - Intersection\n",
    "\"-\" - Difference\n",
    "\"^\" - Simetrical diferrence\n"
   ]
  },
  {
   "cell_type": "code",
   "execution_count": 112,
   "metadata": {},
   "outputs": [
    {
     "name": "stdout",
     "output_type": "stream",
     "text": [
      "{1, 2, 3, 4}\n"
     ]
    }
   ],
   "source": [
    "# CASE 1\n",
    "s1 = {1, 2, 3}\n",
    "s2 = {2, 3, 4}\n",
    "\n",
    "s3 = s1 | s2\n",
    "print(s3)\n"
   ]
  },
  {
   "cell_type": "code",
   "execution_count": 113,
   "metadata": {},
   "outputs": [
    {
     "name": "stdout",
     "output_type": "stream",
     "text": [
      "{2, 3}\n"
     ]
    }
   ],
   "source": [
    "# CASE 2\n",
    "s1 = {1, 2, 3}\n",
    "s2 = {2, 3, 4}\n",
    "\n",
    "s3 = s1 & s2\n",
    "print(s3)\n"
   ]
  },
  {
   "cell_type": "code",
   "execution_count": 114,
   "metadata": {},
   "outputs": [
    {
     "name": "stdout",
     "output_type": "stream",
     "text": [
      "{1}\n",
      "{4}\n"
     ]
    }
   ],
   "source": [
    "# CASE 3\n",
    "s1 = {1, 2, 3}\n",
    "s2 = {2, 3, 4}\n",
    "\n",
    "s3 = s1 - s2\n",
    "s4 = s2 - s1\n",
    "\n",
    "print(s3)\n",
    "print(s4)\n"
   ]
  },
  {
   "cell_type": "code",
   "execution_count": 115,
   "metadata": {},
   "outputs": [
    {
     "name": "stdout",
     "output_type": "stream",
     "text": [
      "{1, 4}\n"
     ]
    }
   ],
   "source": [
    "# CASE 4\n",
    "s1 = {1, 2, 3}\n",
    "s2 = {2, 3, 4}\n",
    "\n",
    "s3 = s1 ^ s2\n",
    "\n",
    "print(s3)\n"
   ]
  },
  {
   "cell_type": "code",
   "execution_count": 279,
   "metadata": {},
   "outputs": [
    {
     "data": {
      "text/plain": [
       "'1'"
      ]
     },
     "execution_count": 279,
     "metadata": {},
     "output_type": "execute_result"
    }
   ],
   "source": [
    "# ASNWER\n",
    "x_original = [1, 2, 1, 3]\n",
    "x = x_original.copy()\n",
    "size_list = len(x_original)\n",
    "repited = []\n",
    "\n",
    "for i in range(size_list):\n",
    "    elemento = x.pop(0)\n",
    "    if elemento in x and elemento not in repited:\n",
    "        repited.append(elemento)\n",
    "\n",
    "if repited == []:\n",
    "    resposta = -1\n",
    "else:\n",
    "    analise = [{f'{n}': []} for n in repited]\n",
    "    for elemento in analise:\n",
    "        chave = list(elemento.keys())[0]\n",
    "        numero = int(chave)\n",
    "        \n",
    "        for i in range(size_list):\n",
    "            if numero == x_original[i]:\n",
    "                elemento[chave].append(i)\n",
    "\n",
    "    for elemento in analise:\n",
    "        chave = list(elemento.keys())[0]\n",
    "        elemento[chave] = elemento[chave][1:]\n",
    "        elemento['min'] = min(elemento[chave])\n",
    "\n",
    "    ordenado = sorted(analise, key=lambda x: x['min'])\n",
    "    resposta = list(ordenado[0].keys())[0]\n",
    "\n",
    "resposta"
   ]
  },
  {
   "cell_type": "code",
   "execution_count": 280,
   "metadata": {},
   "outputs": [
    {
     "data": {
      "text/plain": [
       "1"
      ]
     },
     "execution_count": 280,
     "metadata": {},
     "output_type": "execute_result"
    }
   ],
   "source": [
    "# SOLUTION\n",
    "numeros_checados = set()\n",
    "primeiro_duplicado = -1\n",
    "\n",
    "for numero in x_original:\n",
    "    if numero in numeros_checados:\n",
    "        primeiro_duplicado = numero\n",
    "        break\n",
    "    numeros_checados.add(numero)\n",
    "\n",
    "primeiro_duplicado"
   ]
  },
  {
   "cell_type": "markdown",
   "metadata": {},
   "source": [
    "## `sort() and sorted()`:"
   ]
  },
  {
   "cell_type": "code",
   "execution_count": 285,
   "metadata": {},
   "outputs": [
    {
     "name": "stdout",
     "output_type": "stream",
     "text": [
      "[1, 2, 3, 4, 5, 7, 8]\n"
     ]
    }
   ],
   "source": [
    "# CASE 1\n",
    "lista = [1, 4, 2, 3, 5, 7 , 8]\n",
    "lista.sort(reverse=False)\n",
    "\n",
    "print(lista)"
   ]
  },
  {
   "cell_type": "code",
   "execution_count": 284,
   "metadata": {},
   "outputs": [
    {
     "name": "stdout",
     "output_type": "stream",
     "text": [
      "[8, 7, 5, 4, 3, 2, 1]\n"
     ]
    }
   ],
   "source": [
    "# CASE 2\n",
    "lista = [1, 4, 2, 3, 5, 7 , 8]\n",
    "lista.sort(reverse=True)\n",
    "\n",
    "print(lista)"
   ]
  },
  {
   "cell_type": "code",
   "execution_count": 291,
   "metadata": {},
   "outputs": [
    {
     "name": "stdout",
     "output_type": "stream",
     "text": [
      "Old list: [1, 4, 2, 3, 5, 7, 8]\n",
      "New list: [1, 2, 3, 4, 5, 7, 8]\n"
     ]
    }
   ],
   "source": [
    "# CASE 3\n",
    "lista = [1, 4, 2, 3, 5, 7 ,8]\n",
    "new_lista = sorted(lista, reverse=False)\n",
    "\n",
    "print(\"Old list:\", lista)\n",
    "print(\"New list:\", new_lista)\n"
   ]
  },
  {
   "cell_type": "code",
   "execution_count": 292,
   "metadata": {},
   "outputs": [
    {
     "name": "stdout",
     "output_type": "stream",
     "text": [
      "Old list: [1, 4, 2, 3, 5, 7, 8]\n",
      "New list: [8, 7, 5, 4, 3, 2, 1]\n"
     ]
    }
   ],
   "source": [
    "# CASE 3\n",
    "lista = [1, 4, 2, 3, 5, 7 ,8]\n",
    "new_lista = sorted(lista, reverse=True)\n",
    "\n",
    "print(\"Old list:\", lista)\n",
    "print(\"New list:\", new_lista)\n"
   ]
  },
  {
   "cell_type": "code",
   "execution_count": 297,
   "metadata": {},
   "outputs": [
    {
     "name": "stdout",
     "output_type": "stream",
     "text": [
      "1\n",
      "4\n",
      "9\n",
      "16\n"
     ]
    }
   ],
   "source": [
    "f = lambda x: x ** 2\n",
    "\n",
    "lista = [1, 2, 3, 4]\n",
    "\n",
    "for i in lista:\n",
    "    print(f(i))"
   ]
  },
  {
   "cell_type": "code",
   "execution_count": null,
   "metadata": {},
   "outputs": [],
   "source": []
  }
 ],
 "metadata": {
  "kernelspec": {
   "display_name": "Python 3",
   "language": "python",
   "name": "python3"
  },
  "language_info": {
   "codemirror_mode": {
    "name": "ipython",
    "version": 3
   },
   "file_extension": ".py",
   "mimetype": "text/x-python",
   "name": "python",
   "nbconvert_exporter": "python",
   "pygments_lexer": "ipython3",
   "version": "3.11.4"
  }
 },
 "nbformat": 4,
 "nbformat_minor": 2
}

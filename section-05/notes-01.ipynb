{
 "cells": [
  {
   "cell_type": "markdown",
   "metadata": {},
   "source": [
    "## `OOP Introduction`:\n",
    " "
   ]
  },
  {
   "cell_type": "code",
   "execution_count": 5,
   "metadata": {},
   "outputs": [
    {
     "name": "stdout",
     "output_type": "stream",
     "text": [
      "João\n",
      "Silva\n"
     ]
    }
   ],
   "source": [
    "class Pessoa():\n",
    "    def __init__(self, nome, sobrenome):\n",
    "        self.nome = nome\n",
    "        self.sobrenome = sobrenome\n",
    "\n",
    "\n",
    "pessoa = Pessoa('João', 'Silva')\n",
    "\n",
    "print(pessoa.nome)\n",
    "print(pessoa.sobrenome)\n"
   ]
  },
  {
   "cell_type": "code",
   "execution_count": 7,
   "metadata": {},
   "outputs": [
    {
     "name": "stdout",
     "output_type": "stream",
     "text": [
      "{'nome': 'Tauan', 'sobrenome': 'Torres'}\n",
      "{'nome': 'Tauan', 'sobrenome': 'Torres'}\n"
     ]
    }
   ],
   "source": [
    "dados = {'nome': 'Tauan', 'sobrenome': 'Torres'}\n",
    "\n",
    "pessoa = Pessoa(**dados)\n",
    "\n",
    "print(vars(pessoa))\n",
    "print(pessoa.__dict__)"
   ]
  },
  {
   "cell_type": "code",
   "execution_count": 11,
   "metadata": {},
   "outputs": [
    {
     "name": "stdout",
     "output_type": "stream",
     "text": [
      "{'nome': 'Tauan', 'sobrenome': 'Torres'}\n",
      "{'nome': 'Kristina', 'sobrenome': 'Torres'}\n"
     ]
    }
   ],
   "source": [
    "tauan = dict(nome='Tauan', sobrenome='Torres')\n",
    "kristina = dict(nome='Kristina', sobrenome='Torres')\n",
    "\n",
    "pessoaTauan = Pessoa(**tauan)\n",
    "pessoaKristina = Pessoa(**kristina)\n",
    "\n",
    "print(vars(pessoaTauan))\n",
    "print(vars(pessoaKristina))\n",
    "\n",
    "DB = [pessoaKristina, pessoaTauan]\n"
   ]
  },
  {
   "cell_type": "code",
   "execution_count": 13,
   "metadata": {},
   "outputs": [],
   "source": [
    "import json\n",
    "\n",
    "PATH = 'pessoas.json'\n",
    "\n",
    "with open(PATH, 'w') as file:\n",
    "    json.dump(DB, file, ensure_ascii=False, indent=2, default=lambda x: x.__dict__)\n"
   ]
  },
  {
   "cell_type": "code",
   "execution_count": 16,
   "metadata": {},
   "outputs": [],
   "source": [
    "with open(PATH, 'r') as file:\n",
    "    pessoas = json.load(file)"
   ]
  },
  {
   "cell_type": "code",
   "execution_count": 22,
   "metadata": {},
   "outputs": [
    {
     "name": "stdout",
     "output_type": "stream",
     "text": [
      "{'nome': 'Kristina', 'sobrenome': 'Torres'}\n",
      "{'nome': 'Tauan', 'sobrenome': 'Torres'}\n"
     ]
    }
   ],
   "source": [
    "DB_RETRIVED = [Pessoa(**pessoa) for pessoa in pessoas]\n",
    "\n",
    "for pessoa in DB_RETRIVED:\n",
    "    print(pessoa.__dict__) "
   ]
  },
  {
   "cell_type": "code",
   "execution_count": 32,
   "metadata": {},
   "outputs": [],
   "source": [
    "def save_json(PATH, DB):\n",
    "    with open(PATH, 'w') as file:\n",
    "        json.dump(DB, file, ensure_ascii=False, indent=2, default=lambda x: x.__dict__)\n",
    "    print('Arquivo salvo com sucesso!')\n",
    "\n",
    "def load_json(PATH):\n",
    "    with open(PATH, 'r') as file:\n",
    "        pessoas = json.load(file)\n",
    "    print('Arquivo carregado com sucesso!')\n",
    "    return [Pessoa(**pessoa) for pessoa in pessoas]\n",
    "\n",
    "def show_pessoas(DB):\n",
    "    for pessoa in DB:\n",
    "        print(pessoa.__dict__)"
   ]
  },
  {
   "cell_type": "code",
   "execution_count": 34,
   "metadata": {},
   "outputs": [
    {
     "name": "stdout",
     "output_type": "stream",
     "text": [
      "{'nome': 'Kristina', 'sobrenome': 'Torres'}\n",
      "{'nome': 'Tauan', 'sobrenome': 'Torres'}\n",
      "{'nome': 'Pandora', 'sobrenome': 'Torres'}\n",
      "Arquivo salvo com sucesso!\n",
      "Arquivo carregado com sucesso!\n",
      "{'nome': 'Kristina', 'sobrenome': 'Torres'}\n",
      "{'nome': 'Tauan', 'sobrenome': 'Torres'}\n",
      "{'nome': 'Pandora', 'sobrenome': 'Torres'}\n"
     ]
    }
   ],
   "source": [
    "tauan = dict(nome='Tauan', sobrenome='Torres')\n",
    "kristina = dict(nome='Kristina', sobrenome='Torres')\n",
    "\n",
    "pessoaTauan = Pessoa(**tauan)\n",
    "pessoaKristina = Pessoa(**kristina)\n",
    "pessoaPandora = Pessoa('Pandora', 'Torres')\n",
    "\n",
    "DB = [pessoaKristina, pessoaTauan, pessoaPandora]\n",
    "show_pessoas(DB)\n",
    "\n",
    "save_json('pessoas.json', DB)\n",
    "\n",
    "DB_RETRIVED = load_json('pessoas.json')\n",
    "show_pessoas(DB_RETRIVED)\n"
   ]
  },
  {
   "cell_type": "markdown",
   "metadata": {},
   "source": [
    "## `@classmethod`:"
   ]
  },
  {
   "cell_type": "code",
   "execution_count": 36,
   "metadata": {},
   "outputs": [
    {
     "name": "stdout",
     "output_type": "stream",
     "text": [
      "{'nome': 'Tauan', 'sobrenome': 'Torres'}\n",
      "{'nome': 'Sem nome', 'sobrenome': 'Torres'}\n",
      "{'nome': 'Kristina', 'sobrenome': 'Sem sobrenome'}\n"
     ]
    }
   ],
   "source": [
    "class Pessoa():\n",
    "    def __init__(self, nome, sobrenome):\n",
    "        self.nome = nome\n",
    "        self.sobrenome = sobrenome\n",
    "\n",
    "    @classmethod\n",
    "    def metodo_da_classe(cls):\n",
    "        print('Método da classe')\n",
    "\n",
    "    @classmethod\n",
    "    def no_name(cls, sobrenome):\n",
    "        return cls('Sem nome', sobrenome)\n",
    "    \n",
    "    @classmethod\n",
    "    def no_sobre_nome(cls, nome):\n",
    "        return cls(nome, 'Sem sobrenome')\n",
    "    \n",
    "\n",
    "tauan = Pessoa('Tauan', 'Torres')\n",
    "pandora = Pessoa.no_name('Torres')\n",
    "sem_sobrenome = Pessoa.no_sobre_nome('Kristina')\n",
    "\n",
    "print(vars(tauan))\n",
    "print(vars(pandora))\n",
    "print(vars(sem_sobrenome))"
   ]
  },
  {
   "cell_type": "code",
   "execution_count": 49,
   "metadata": {},
   "outputs": [
    {
     "name": "stdout",
     "output_type": "stream",
     "text": [
      "Sum:  15\n",
      "args: (1, 2, 3, 4, 5)\n",
      "kwargs: {'nome': 'Tauan', 'sobrenome': 'Torres'}\n"
     ]
    }
   ],
   "source": [
    "class Operadores():\n",
    "\n",
    "    @staticmethod\n",
    "    def soma(args):\n",
    "        print('Sum: ', sum(args)) \n",
    "    \n",
    "    @staticmethod\n",
    "    def show( *args, **kwargs):\n",
    "        print('args:', args)\n",
    "        print('kwargs:', kwargs)\n",
    "    \n",
    "tool = Operadores()\n",
    "dados = {'nome': 'Tauan', 'sobrenome': 'Torres'}\n",
    "\n",
    "tool.soma([1, 2, 3, 4, 5])\n",
    "tool.show(1, 2, 3, 4, 5, **dados)\n"
   ]
  },
  {
   "cell_type": "code",
   "execution_count": 59,
   "metadata": {},
   "outputs": [
    {
     "name": "stdout",
     "output_type": "stream",
     "text": [
      "Log: User setted\n",
      "Log: Password setted\n",
      "Log: Connection created\n",
      "{'host': 'localhost', 'user': 'tauan', 'password': '123456'}\n"
     ]
    }
   ],
   "source": [
    "class Connection():\n",
    "\n",
    "    def __init__(self, host='localhost'):\n",
    "        self.host = host\n",
    "        self.user = None\n",
    "        self.password = None\n",
    "\n",
    "    def set_user(self, user):\n",
    "        self.user = user\n",
    "        self.log('User setted')\n",
    "    \n",
    "    def set_password(self, password):\n",
    "        self.password = password\n",
    "        self.log('Password setted')\n",
    "\n",
    "    def set_params(self, user, password):\n",
    "        self.set_user(user)\n",
    "        self.set_password(password)\n",
    "\n",
    "    @classmethod\n",
    "    def create_with_auth(cls, user, password):\n",
    "        connections = cls()\n",
    "        connections.set_params(user, password)\n",
    "        cls.log('Connection created')\n",
    "        return connections\n",
    "    \n",
    "    @staticmethod\n",
    "    def log(msg):\n",
    "        print('Log:', msg)\n",
    "\n",
    "\n",
    "connection = Connection.create_with_auth('tauan', '123456')\n",
    "print(vars(connection))"
   ]
  },
  {
   "cell_type": "markdown",
   "metadata": {},
   "source": [
    "## `@property`:\n",
    " "
   ]
  },
  {
   "cell_type": "code",
   "execution_count": 63,
   "metadata": {},
   "outputs": [
    {
     "name": "stdout",
     "output_type": "stream",
     "text": [
      "Azul\n"
     ]
    }
   ],
   "source": [
    "class Caneta:\n",
    "    \n",
    "    def __init__(self, cor):\n",
    "        self.__cor = cor\n",
    "\n",
    "    def get_cor(self):\n",
    "        return self.__cor\n",
    "    \n",
    "caneta = Caneta('Azul')\n",
    "print(caneta.get_cor())\n"
   ]
  },
  {
   "cell_type": "code",
   "execution_count": 74,
   "metadata": {},
   "outputs": [
    {
     "name": "stdout",
     "output_type": "stream",
     "text": [
      "Cor da tinta: Azul\n"
     ]
    }
   ],
   "source": [
    "class Caneta:\n",
    "    def __init__(self, cor):\n",
    "        self.cor_tinta = cor\n",
    "\n",
    "    @property\n",
    "    def cor(self):\n",
    "        return self.cor_tinta\n",
    "    \n",
    "caneta = Caneta('Azul')\n",
    "print('Cor da tinta:', caneta.cor)"
   ]
  },
  {
   "cell_type": "markdown",
   "metadata": {},
   "source": [
    "### `@property.setter`"
   ]
  },
  {
   "cell_type": "code",
   "execution_count": 88,
   "metadata": {},
   "outputs": [
    {
     "name": "stdout",
     "output_type": "stream",
     "text": [
      "Cor da tinta: Azul\n",
      "Cor da tinta: Vermelho\n",
      "--------------------------------------------------\n",
      "Cor da tampa: None\n",
      "Cor da tampa: Verde\n"
     ]
    }
   ],
   "source": [
    "class Caneta:\n",
    "\n",
    "    def __init__(self, cor):\n",
    "        self._cor = cor # Protected\n",
    "        self._cor_tampa = None # Protected\n",
    "\n",
    "    @property\n",
    "    def cor(self):\n",
    "        return self._cor\n",
    "    \n",
    "    @cor.setter\n",
    "    def cor(self, cor):\n",
    "        self._cor = cor\n",
    "\n",
    "    @property\n",
    "    def cor_tampa(self):\n",
    "        return self._cor_tampa\n",
    "    \n",
    "    @cor_tampa.setter\n",
    "    def cor_tampa(self, cor):\n",
    "        self._cor_tampa = cor\n",
    "\n",
    "caneta = Caneta('Azul')\n",
    "print('Cor da tinta:', caneta.cor)\n",
    "\n",
    "caneta.cor = 'Vermelho'\n",
    "print('Cor da tinta:', caneta.cor)\n",
    "\n",
    "print(\"-\" * 50)\n",
    "\n",
    "print('Cor da tampa:', caneta.cor_tampa)\n",
    "\n",
    "caneta.cor_tampa = 'Verde'\n",
    "print('Cor da tampa:', caneta.cor_tampa)\n",
    "\n"
   ]
  },
  {
   "cell_type": "markdown",
   "metadata": {},
   "source": [
    "## `Encampsulamento`:\n"
   ]
  },
  {
   "cell_type": "code",
   "execution_count": null,
   "metadata": {},
   "outputs": [],
   "source": []
  },
  {
   "cell_type": "code",
   "execution_count": 97,
   "metadata": {},
   "outputs": [
    {
     "name": "stdout",
     "output_type": "stream",
     "text": [
      "Public attribute\n",
      "Protected attribute\n",
      "--------------------------------------------------\n",
      "public_method\n",
      "_protected_method\n"
     ]
    }
   ],
   "source": [
    "class Foo:\n",
    "    def __init__(self):\n",
    "        self.public = \"Public attribute\"\n",
    "        self._protected = \"Protected attribute\"\n",
    "        self.__private = \"Private attribute\"\n",
    "\n",
    "    def public_method(self):\n",
    "        return \"public_method\"\n",
    "    \n",
    "    def _protected_method(self):\n",
    "        return \"_protected_method\"\n",
    "    \n",
    "    def __private_method(self):\n",
    "        return \"__private_method\"\n",
    "    \n",
    "foo = Foo()\n",
    "\n",
    "print(foo.public)\n",
    "print(foo._protected)   \n",
    "\n",
    "print(\"-\" * 50)\n",
    "\n",
    "print(foo.public_method())\n",
    "print(foo._protected_method())\n"
   ]
  },
  {
   "cell_type": "code",
   "execution_count": 100,
   "metadata": {},
   "outputs": [
    {
     "name": "stdout",
     "output_type": "stream",
     "text": [
      "Public attribute public_method\n",
      "Protected attribute _protected_method\n",
      "Private attribute __private_method\n"
     ]
    }
   ],
   "source": [
    "class Foo:\n",
    "    def __init__(self):\n",
    "        self.public = \"Public attribute\"\n",
    "        self._protected = \"Protected attribute\"\n",
    "        self.__private = \"Private attribute\"\n",
    "\n",
    "    def public_method(self):\n",
    "        return \"public_method\"\n",
    "    \n",
    "    def _protected_method(self):\n",
    "        return \"_protected_method\"\n",
    "    \n",
    "    def __private_method(self):\n",
    "        return \"__private_method\"\n",
    "    \n",
    "    def to_show_public(self):\n",
    "        print(self.public, self.public_method())\n",
    "\n",
    "    def to_show_protected(self):\n",
    "        print(self._protected, self._protected_method())\n",
    "\n",
    "    def to_show_private(self):\n",
    "        print(self.__private, self.__private_method())\n",
    "    \n",
    "foo = Foo()\n",
    "\n",
    "foo.to_show_public()\n",
    "foo.to_show_protected()\n",
    "foo.to_show_private()"
   ]
  },
  {
   "cell_type": "markdown",
   "metadata": {},
   "source": []
  },
  {
   "cell_type": "code",
   "execution_count": null,
   "metadata": {},
   "outputs": [],
   "source": []
  }
 ],
 "metadata": {
  "kernelspec": {
   "display_name": "Python 3",
   "language": "python",
   "name": "python3"
  },
  "language_info": {
   "codemirror_mode": {
    "name": "ipython",
    "version": 3
   },
   "file_extension": ".py",
   "mimetype": "text/x-python",
   "name": "python",
   "nbconvert_exporter": "python",
   "pygments_lexer": "ipython3",
   "version": "3.11.4"
  }
 },
 "nbformat": 4,
 "nbformat_minor": 2
}
